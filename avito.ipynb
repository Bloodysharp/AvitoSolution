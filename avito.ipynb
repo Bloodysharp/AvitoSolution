{
 "cells": [
  {
   "cell_type": "code",
   "execution_count": 3,
   "metadata": {},
   "outputs": [],
   "source": [
    "import os\n",
    "import json\n",
    "import torch\n",
    "import torchvision.transforms as transforms\n",
    "import torchvision.models as models\n",
    "import torch.nn as nn\n",
    "import torch.optim as optim\n",
    "import pandas as pd\n",
    "from torch.utils.data import Dataset, DataLoader\n",
    "from PIL import Image\n",
    "from tqdm import tqdm"
   ]
  },
  {
   "cell_type": "code",
   "execution_count": null,
   "metadata": {},
   "outputs": [],
   "source": [
    "# === Константы ===\n",
    "DEVICE = torch.device(\"cuda\" if torch.cuda.is_available() else \"cpu\")\n",
    "BATCH_SIZE = 64\n",
    "EPOCHS = 12\n",
    "LEARNING_RATE = 0.001\n",
    "TRAIN_DIR = \"train_data\"\n",
    "TEST_DIR = \"test_data\"\n",
    "TRAIN_CSV = \"train_data.csv\"\n",
    "TEST_CSV = \"test_data.csv\"\n",
    "MODEL_PATH = \"model.pth\""
   ]
  },
  {
   "cell_type": "code",
   "execution_count": null,
   "metadata": {},
   "outputs": [],
   "source": [
    "# Классы цветов\n",
    "CLASSES = [\"bezhevyi\", \"belyi\", \"biryuzovyi\", \"bordovyi\", \"goluboi\", \"zheltyi\", \"zelenyi\",\n",
    "           \"zolotoi\", \"korichnevyi\", \"krasnyi\", \"oranzhevyi\", \"raznocvetnyi\", \"rozovyi\",\n",
    "           \"serebristyi\", \"seryi\", \"sinii\", \"fioletovyi\", \"chernyi\"]\n",
    "CLASS_TO_INDEX = {color: idx for idx, color in enumerate(CLASSES)}\n",
    "INDEX_TO_CLASS = {idx: color for color, idx in CLASS_TO_INDEX.items()}"
   ]
  },
  {
   "cell_type": "code",
   "execution_count": 6,
   "metadata": {},
   "outputs": [],
   "source": [
    "# Трансформации для изображений\n",
    "transform = transforms.Compose([\n",
    "    transforms.Resize((224, 224)),\n",
    "    transforms.ToTensor(),\n",
    "    transforms.Normalize(mean=[0.485, 0.456, 0.406], std=[0.229, 0.224, 0.225])\n",
    "])"
   ]
  },
  {
   "cell_type": "code",
   "execution_count": null,
   "metadata": {},
   "outputs": [],
   "source": [
    "# === Dataset ===\n",
    "class ProductDataset(Dataset):\n",
    "    def __init__(self, csv_file, img_dir, transform=None, train=True):\n",
    "        self.data = pd.read_csv(csv_file)\n",
    "        self.img_dir = img_dir\n",
    "        self.transform = transform\n",
    "        self.train = train  # Флаг train/test\n",
    "        # Фильтруем данные с помощью функции _image_exists\n",
    "        self.data = self.data[self.data[\"id\"].apply(self._image_exists)]\n",
    "\n",
    "    def _image_exists(self, img_id):\n",
    "        # Проверяем, существует ли файл\n",
    "        img_path = os.path.join(self.img_dir, str(img_id) + \".jpg\")\n",
    "        return os.path.exists(img_path)\n",
    "\n",
    "    def __len__(self):\n",
    "        return len(self.data)\n",
    "\n",
    "    def __getitem__(self, idx):\n",
    "        # Получаем ID изображения\n",
    "        img_id = str(self.data.iloc[idx][\"id\"])\n",
    "        img_path = os.path.join(self.img_dir, f\"{img_id}.jpg\")\n",
    "\n",
    "        # Загружаем изображение\n",
    "        try:\n",
    "            image = Image.open(img_path).convert(\"RGB\")\n",
    "            if self.transform:\n",
    "                image = self.transform(image)\n",
    "        except Exception as e:\n",
    "            print(f\"Ошибка при загрузке {img_path}: {e}\")\n",
    "            # Возвращаем \"пустое\" изображение и метку\n",
    "            image = torch.zeros((3, 224, 224))  # Пример для изображения 224x224\n",
    "            label = -1  # Специальное значение для ошибки\n",
    "            return image, label\n",
    "\n",
    "        # Обработка меток\n",
    "        if self.train:\n",
    "            label = CLASS_TO_INDEX.get(self.data.iloc[idx][\"target\"], -1)  # Используем -1 для ошибок\n",
    "            return image, label\n",
    "        else:\n",
    "            category = self.data.iloc[idx].get(\"category\", \"unknown\")  # Используем \"unknown\", если категория отсутствует\n",
    "            return image, img_id, category"
   ]
  },
  {
   "cell_type": "code",
   "execution_count": 8,
   "metadata": {},
   "outputs": [],
   "source": [
    "# === Фильтр batch ===\n",
    "def collate_fn(batch):\n",
    "    # Убираем None из батча\n",
    "    batch = [b for b in batch if b is not None]\n",
    "    if len(batch) == 0:\n",
    "        return None  # Если весь батч состоит из None, возвращаем None\n",
    "    return torch.utils.data.dataloader.default_collate(batch)\n",
    "\n",
    "# === Модель ===\n",
    "def get_model():\n",
    "    model = models.efficientnet_b0(weights=models.EfficientNet_B0_Weights.DEFAULT)\n",
    "    model.classifier[1] = nn.Linear(model.classifier[1].in_features, len(CLASSES))\n",
    "    return model.to(DEVICE)\n"
   ]
  },
  {
   "cell_type": "code",
   "execution_count": null,
   "metadata": {},
   "outputs": [],
   "source": [
    "\n",
    "# === Обучение ===\n",
    "def train():\n",
    "    dataset = ProductDataset(TRAIN_CSV, TRAIN_DIR, transform, train=True)\n",
    "    train_loader = DataLoader(dataset, batch_size=BATCH_SIZE, shuffle=True, num_workers=0, collate_fn=collate_fn)\n",
    "\n",
    "    model = get_model()\n",
    "    criterion = nn.CrossEntropyLoss()\n",
    "    optimizer = optim.Adam(model.parameters(), lr=LEARNING_RATE)\n",
    "\n",
    "    for epoch in range(EPOCHS):\n",
    "        model.train()\n",
    "        running_loss = 0.0\n",
    "\n",
    "        for batch in tqdm(train_loader, desc=f\"Epoch {epoch+1}/{EPOCHS}\"):\n",
    "            if batch is None:\n",
    "                print (batch)\n",
    "                continue  # Пропуск пустых батчей\n",
    "            \n",
    "            images, labels = batch\n",
    "            images, labels = images.to(DEVICE), labels.to(DEVICE)\n",
    "\n",
    "            optimizer.zero_grad()\n",
    "            outputs = model(images)\n",
    "            loss = criterion(outputs, labels)\n",
    "            loss.backward()\n",
    "            optimizer.step()\n",
    "\n",
    "            running_loss += loss.item()\n",
    "\n",
    "        print(f\"Epoch {epoch+1}: Loss = {running_loss / len(train_loader)}\")\n",
    "\n",
    "    torch.save(model.state_dict(), MODEL_PATH)\n",
    "    print(\"✅ Модель сохранена!\")\n",
    "\n"
   ]
  },
  {
   "cell_type": "code",
   "execution_count": 10,
   "metadata": {},
   "outputs": [],
   "source": [
    "\n",
    "\n",
    "# === Предсказание ===\n",
    "def predict():\n",
    "    dataset = ProductDataset(TEST_CSV, TEST_DIR, transform, train=False)\n",
    "    test_loader = DataLoader(dataset, batch_size=1, shuffle=False, num_workers=0, collate_fn=collate_fn)\n",
    "\n",
    "    model = get_model()\n",
    "    model.load_state_dict(torch.load(MODEL_PATH, map_location=DEVICE))\n",
    "    model.eval()\n",
    "\n",
    "    results = []\n",
    "\n",
    "    with torch.no_grad():\n",
    "        for batch in tqdm(test_loader, desc=\"Predicting\"):\n",
    "            if batch is None:\n",
    "                continue\n",
    "\n",
    "            images, img_ids, categories = batch\n",
    "            images = images.to(DEVICE)\n",
    "            outputs = torch.softmax(model(images), dim=1)  # Преобразуем в вероятности\n",
    "            \n",
    "            for i in range(len(img_ids)):\n",
    "                img_id = img_ids[i]\n",
    "                category = categories[i]\n",
    "                probs = {CLASSES[j]: float(outputs[i, j]) for j in range(len(CLASSES))}\n",
    "                predicted_color = max(probs, key=probs.get)\n",
    "                \n",
    "                results.append({\n",
    "                    \"id\": img_id,\n",
    "                    \"category\": category,\n",
    "                    \"predict_proba\": json.dumps(probs, ensure_ascii=False),\n",
    "                    \"predict_color\": predicted_color\n",
    "                })\n",
    "\n",
    "    df = pd.DataFrame(results)\n",
    "    df.to_csv(\"submission.csv\", index=False)\n",
    "    print(\"✅ Предсказания сохранены в submission.csv\")\n",
    "\n"
   ]
  },
  {
   "cell_type": "code",
   "execution_count": null,
   "metadata": {},
   "outputs": [
    {
     "name": "stderr",
     "output_type": "stream",
     "text": [
      "Epoch 1/12: 100%|██████████| 521/521 [09:59<00:00,  1.15s/it]\n"
     ]
    },
    {
     "name": "stdout",
     "output_type": "stream",
     "text": [
      "Epoch 1: Loss = 1.2072897588909244\n"
     ]
    },
    {
     "name": "stderr",
     "output_type": "stream",
     "text": [
      "Epoch 2/12: 100%|██████████| 521/521 [09:34<00:00,  1.10s/it]\n"
     ]
    },
    {
     "name": "stdout",
     "output_type": "stream",
     "text": [
      "Epoch 2: Loss = 0.9779191263120143\n"
     ]
    },
    {
     "name": "stderr",
     "output_type": "stream",
     "text": [
      "Epoch 3/12: 100%|██████████| 521/521 [09:33<00:00,  1.10s/it]\n"
     ]
    },
    {
     "name": "stdout",
     "output_type": "stream",
     "text": [
      "Epoch 3: Loss = 0.863504676695291\n"
     ]
    },
    {
     "name": "stderr",
     "output_type": "stream",
     "text": [
      "Epoch 4/12: 100%|██████████| 521/521 [09:37<00:00,  1.11s/it]\n"
     ]
    },
    {
     "name": "stdout",
     "output_type": "stream",
     "text": [
      "Epoch 4: Loss = 0.7596533661726111\n"
     ]
    },
    {
     "name": "stderr",
     "output_type": "stream",
     "text": [
      "Epoch 5/12: 100%|██████████| 521/521 [09:37<00:00,  1.11s/it]\n"
     ]
    },
    {
     "name": "stdout",
     "output_type": "stream",
     "text": [
      "Epoch 5: Loss = 0.6513175717814184\n"
     ]
    },
    {
     "name": "stderr",
     "output_type": "stream",
     "text": [
      "Epoch 6/12: 100%|██████████| 521/521 [09:39<00:00,  1.11s/it]\n"
     ]
    },
    {
     "name": "stdout",
     "output_type": "stream",
     "text": [
      "Epoch 6: Loss = 0.5380434147341466\n"
     ]
    },
    {
     "name": "stderr",
     "output_type": "stream",
     "text": [
      "Epoch 7/12: 100%|██████████| 521/521 [09:38<00:00,  1.11s/it]\n"
     ]
    },
    {
     "name": "stdout",
     "output_type": "stream",
     "text": [
      "Epoch 7: Loss = 0.44627581273639955\n"
     ]
    },
    {
     "name": "stderr",
     "output_type": "stream",
     "text": [
      "Epoch 8/12: 100%|██████████| 521/521 [09:39<00:00,  1.11s/it]\n"
     ]
    },
    {
     "name": "stdout",
     "output_type": "stream",
     "text": [
      "Epoch 8: Loss = 0.36023641184630184\n"
     ]
    },
    {
     "name": "stderr",
     "output_type": "stream",
     "text": [
      "Epoch 9/12: 100%|██████████| 521/521 [09:37<00:00,  1.11s/it]\n"
     ]
    },
    {
     "name": "stdout",
     "output_type": "stream",
     "text": [
      "Epoch 9: Loss = 0.3011816359498679\n"
     ]
    },
    {
     "name": "stderr",
     "output_type": "stream",
     "text": [
      "Epoch 10/12: 100%|██████████| 521/521 [09:38<00:00,  1.11s/it]\n"
     ]
    },
    {
     "name": "stdout",
     "output_type": "stream",
     "text": [
      "Epoch 10: Loss = 0.2476881112681698\n"
     ]
    },
    {
     "name": "stderr",
     "output_type": "stream",
     "text": [
      "Epoch 11/12: 100%|██████████| 521/521 [09:39<00:00,  1.11s/it]\n"
     ]
    },
    {
     "name": "stdout",
     "output_type": "stream",
     "text": [
      "Epoch 11: Loss = 0.22394631241739596\n"
     ]
    },
    {
     "name": "stderr",
     "output_type": "stream",
     "text": [
      "Epoch 12/12: 100%|██████████| 521/521 [09:38<00:00,  1.11s/it]"
     ]
    },
    {
     "name": "stdout",
     "output_type": "stream",
     "text": [
      "Epoch 12: Loss = 0.21181644923312878\n",
      "✅ Модель сохранена!\n"
     ]
    },
    {
     "name": "stderr",
     "output_type": "stream",
     "text": [
      "\n"
     ]
    }
   ],
   "source": [
    "train()  # Обучение модели\n"
   ]
  },
  {
   "cell_type": "code",
   "execution_count": 13,
   "metadata": {},
   "outputs": [
    {
     "name": "stderr",
     "output_type": "stream",
     "text": [
      "Predicting: 100%|██████████| 344/344 [00:06<00:00, 53.85it/s]"
     ]
    },
    {
     "name": "stdout",
     "output_type": "stream",
     "text": [
      "✅ Предсказания сохранены в submission.csv\n"
     ]
    },
    {
     "name": "stderr",
     "output_type": "stream",
     "text": [
      "\n"
     ]
    }
   ],
   "source": [
    "predict() # Предсказание на тесте"
   ]
  },
  {
   "cell_type": "code",
   "execution_count": null,
   "metadata": {},
   "outputs": [],
   "source": []
  }
 ],
 "metadata": {
  "kernelspec": {
   "display_name": "Python 3",
   "language": "python",
   "name": "python3"
  },
  "language_info": {
   "codemirror_mode": {
    "name": "ipython",
    "version": 3
   },
   "file_extension": ".py",
   "mimetype": "text/x-python",
   "name": "python",
   "nbconvert_exporter": "python",
   "pygments_lexer": "ipython3",
   "version": "3.12.6"
  }
 },
 "nbformat": 4,
 "nbformat_minor": 2
}
